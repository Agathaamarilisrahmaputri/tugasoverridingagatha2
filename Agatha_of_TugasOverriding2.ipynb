{
  "nbformat": 4,
  "nbformat_minor": 0,
  "metadata": {
    "colab": {
      "provenance": [],
      "include_colab_link": true
    },
    "kernelspec": {
      "name": "python3",
      "display_name": "Python 3"
    },
    "language_info": {
      "name": "python"
    }
  },
  "cells": [
    {
      "cell_type": "markdown",
      "metadata": {
        "id": "view-in-github",
        "colab_type": "text"
      },
      "source": [
        "<a href=\"https://colab.research.google.com/github/Agathaamarilisrahmaputri/tugasoverridingagatha2/blob/main/Agatha_of_TugasOverriding2.ipynb\" target=\"_parent\"><img src=\"https://colab.research.google.com/assets/colab-badge.svg\" alt=\"Open In Colab\"/></a>"
      ]
    },
    {
      "cell_type": "markdown",
      "source": [
        "Anda bekerja sebagai programmer di sebuah supermarket besar. Manajemen supermarket ingin Anda mengembangkan program Python untuk mengelola berbagai jenis produk yang mereka jual di toko mereka. Mereka memiliki kelas dasar **Produk** dengan atribut berikut:\n",
        "\n",
        "*   kode_barang (kode unik produk)\n",
        "*   nama (nama produk)\n",
        "*   harga (harga produk)\n",
        "\n",
        "Selain itu, mereka memiliki dua jenis produk spesifik: **ProdukMakanan** dan **ProdukElektronik**. Produk makanan memiliki atribut tambahan:\n",
        "\n",
        "*   tanggal_kadaluarsa (tanggal kadaluarsa makanan)\n",
        "\n",
        "Sementara Produk elektronik memiliki atribut tambahan:\n",
        "\n",
        "*   garansi (lama garansi dalam bulan)\n",
        "\n",
        "Manajemen supermarket ingin Anda membuat program Python yang memungkinkan mereka untuk mencetak informasi tentang setiap produk, termasuk kode barang, nama, harga, serta atribut tambahan yang sesuai (tanggal kadaluarsa atau lama garansi).\n",
        "\n",
        "Tugas Anda adalah:\n",
        "\n",
        "\n",
        "1.   Membuat kelas Produk dengan atribut kode_barang, nama, dan harga, serta metode deskripsi yang mencetak informasi tentang produk tersebut.\n",
        "2.   Membuat kelas ProdukMakanan yang mewarisi dari kelas Produk dan memiliki atribut tambahan tanggal_kadaluarsa, serta mengimplementasikan metode deskripsi untuk mencetak informasi tentang produk makanan.\n",
        "1.   Membuat kelas ProdukElektronik yang juga mewarisi dari kelas Produk dan memiliki atribut tambahan garansi, serta mengimplementasikan metode deskripsi untuk mencetak informasi tentang produk elektronik.\n",
        "\n",
        "Program Anda harus mendemonstrasikan penggunaan konsep **overriding** dalam Python dalam konteks produk di supermarket.\n",
        "\n",
        "Selamat mengerjakan!\n",
        "\n",
        "\n",
        "\n",
        "\n",
        "\n"
      ],
      "metadata": {
        "id": "Yo0ulCyP2WPG"
      }
    },
    {
      "cell_type": "code",
      "execution_count": 4,
      "metadata": {
        "id": "tG1-g1OW2KSu"
      },
      "outputs": [],
      "source": [
        "class Produk:\n",
        "  def __init__(self, kode_barang, nama, harga):\n",
        "    self.kode_barang = kode_barang\n",
        "    self.nama = nama\n",
        "    self.harga = harga\n",
        "\n",
        "  def metode(self):\n",
        "    print('kode barang :', self.kode_barang, 'nama :', self.nama, 'harga :', self.harga )"
      ]
    },
    {
      "cell_type": "code",
      "source": [
        "class ProdukMakanan(Produk):\n",
        "  def __init__(self, kode_barang, nama, harga, tanggal_kadaluarsa):\n",
        "    super().__init__(kode_barang, nama, harga)\n",
        "    self.tanggal_kadaluarsa = tanggal_kadaluarsa\n",
        "\n",
        "  def metode(self):\n",
        "    super().metode()\n",
        "    print('tanggal kadaluarsa:', self.tanggal_kadaluarsa)"
      ],
      "metadata": {
        "id": "oy32Lm4m39l0"
      },
      "execution_count": 5,
      "outputs": []
    },
    {
      "cell_type": "code",
      "source": [
        "class ProdukElektronik(Produk):\n",
        "  def __init__(self, kode_barang, nama, harga, garansi):\n",
        "    super().__init__(kode_barang, nama, harga)\n",
        "    self.garansi = garansi\n",
        "\n",
        "  def metode(self):\n",
        "    super().metode()\n",
        "    print('garansi:', self.garansi)"
      ],
      "metadata": {
        "id": "wEgEGwxm4A1y"
      },
      "execution_count": 6,
      "outputs": []
    },
    {
      "cell_type": "code",
      "source": [
        "# Nama Lengkap : Agatha Amarilis Rahma Putri\n",
        "# Kelas : XI RPL 2\n",
        "# Contoh penggunaan masing-masing jenis class produk\n",
        "# produk makanan di sini\n",
        "produk1 = ProdukMakanan(211219, \"silverqueen\", 21000, \"07oct23\")\n",
        "# Memanggil metode tumbuh yang telah di-over\n",
        "# produk elektronik di sini\n",
        "produk2 = ProdukElektronik(238006, \"camera digital\", 2660000, \"15jan24\")\n",
        "# Deskripsi produk makanan\n",
        "print(\"Deskripsi Produk Makanan:\")\n",
        "# lengkapi\n",
        "produk1.metode()\n",
        "# Deskripsi produk elektronik\n",
        "print(\"Deskripsi Produk Elektronik:\")\n",
        "# lengkapi\n",
        "produk2.metode()"
      ],
      "metadata": {
        "id": "noeSP_dw4F4c",
        "colab": {
          "base_uri": "https://localhost:8080/"
        },
        "outputId": "9762f476-f29f-4223-8802-8dc490453a84"
      },
      "execution_count": 9,
      "outputs": [
        {
          "output_type": "stream",
          "name": "stdout",
          "text": [
            "Deskripsi Produk Makanan:\n",
            "kode barang : 211219 nama : silverqueen harga : 21000\n",
            "tanggal kadaluarsa: 07oct23\n",
            "Deskripsi Produk Elektronik:\n",
            "kode barang : 238006 nama : camera digital harga : 2660000\n",
            "garansi: 15jan24\n"
          ]
        }
      ]
    }
  ]
}